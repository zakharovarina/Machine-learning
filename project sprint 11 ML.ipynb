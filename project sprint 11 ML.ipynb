{
 "cells": [
  {
   "cell_type": "markdown",
   "id": "02e88ece",
   "metadata": {},
   "source": [
    "# Machine Learning for Megaline"
   ]
  },
  {
   "cell_type": "markdown",
   "id": "2a8eaab7",
   "metadata": {},
   "source": [
    "# Contents <a id='back'></a>\n",
    "\n",
    "* [Introduction](#intro)  \n",
    "* [Stage 1. Data overview and preprocessing](#data_review)\n",
    "    * [Conclusions](#data_review_conclusions)\n",
    "* [Stage 2. Model development](#model)\n",
    "    * [Conclusions](#conclusions)\n",
    "\n"
   ]
  },
  {
   "cell_type": "markdown",
   "id": "50ab48e4",
   "metadata": {},
   "source": [
    "## Introduction <a id='intro'></a>\n",
    "The project is aimed at recommending appropriate plans (Smart or Ultra) to Megaline's subscribers based on their behavior data. \n",
    "We are going to develop a model using machine learning techniques with the highest possible accuracy. \n",
    "In this project, the threshold for accuracy is 0.75.\n",
    "\n",
    "The project will consist of two stages:\n",
    " 1. Data overview and preprocessing \n",
    " 2. Model developing"
   ]
  },
  {
   "cell_type": "markdown",
   "id": "3c110bb5",
   "metadata": {},
   "source": [
    "## Stage 1. Data overview and preprocessing <a id='data_review'></a>\n",
    "Importing all the necessary libraries and reading the dataset from a csv file using pandas.\n",
    "Obtaining the information about the table using different ways to check for missing values, duplicates and the correctness of column namings. \n"
   ]
  },
  {
   "cell_type": "code",
   "execution_count": 12,
   "id": "82b75ba0",
   "metadata": {},
   "outputs": [],
   "source": [
    "import pandas as pd\n",
    "import seaborn as sns\n",
    "import matplotlib.pyplot as plt\n",
    "import plotly.express as px\n",
    "from sklearn.ensemble import RandomForestClassifier\n",
    "from sklearn.tree import DecisionTreeClassifier\n",
    "from sklearn.model_selection import train_test_split, cross_val_score, GridSearchCV\n",
    "from sklearn.linear_model import LogisticRegression\n",
    "from sklearn.preprocessing import StandardScaler\n",
    "from sklearn.metrics import accuracy_score, classification_report, confusion_matrix"
   ]
  },
  {
   "cell_type": "code",
   "execution_count": 13,
   "id": "6820ad5a",
   "metadata": {},
   "outputs": [],
   "source": [
    " try:\n",
    "    df = pd.read_csv('users_behavior.csv') \n",
    "\n",
    "except FileNotFoundError:\n",
    "\n",
    "    df = pd.read_csv('/datasets/users_behavior.csv') \n"
   ]
  },
  {
   "cell_type": "code",
   "execution_count": 14,
   "id": "1e80378b",
   "metadata": {},
   "outputs": [
    {
     "data": {
      "text/html": [
       "<div>\n",
       "<style scoped>\n",
       "    .dataframe tbody tr th:only-of-type {\n",
       "        vertical-align: middle;\n",
       "    }\n",
       "\n",
       "    .dataframe tbody tr th {\n",
       "        vertical-align: top;\n",
       "    }\n",
       "\n",
       "    .dataframe thead th {\n",
       "        text-align: right;\n",
       "    }\n",
       "</style>\n",
       "<table border=\"1\" class=\"dataframe\">\n",
       "  <thead>\n",
       "    <tr style=\"text-align: right;\">\n",
       "      <th></th>\n",
       "      <th>calls</th>\n",
       "      <th>minutes</th>\n",
       "      <th>messages</th>\n",
       "      <th>mb_used</th>\n",
       "      <th>is_ultra</th>\n",
       "    </tr>\n",
       "  </thead>\n",
       "  <tbody>\n",
       "    <tr>\n",
       "      <th>0</th>\n",
       "      <td>40.0</td>\n",
       "      <td>311.90</td>\n",
       "      <td>83.0</td>\n",
       "      <td>19915.42</td>\n",
       "      <td>0</td>\n",
       "    </tr>\n",
       "    <tr>\n",
       "      <th>1</th>\n",
       "      <td>85.0</td>\n",
       "      <td>516.75</td>\n",
       "      <td>56.0</td>\n",
       "      <td>22696.96</td>\n",
       "      <td>0</td>\n",
       "    </tr>\n",
       "    <tr>\n",
       "      <th>2</th>\n",
       "      <td>77.0</td>\n",
       "      <td>467.66</td>\n",
       "      <td>86.0</td>\n",
       "      <td>21060.45</td>\n",
       "      <td>0</td>\n",
       "    </tr>\n",
       "    <tr>\n",
       "      <th>3</th>\n",
       "      <td>106.0</td>\n",
       "      <td>745.53</td>\n",
       "      <td>81.0</td>\n",
       "      <td>8437.39</td>\n",
       "      <td>1</td>\n",
       "    </tr>\n",
       "    <tr>\n",
       "      <th>4</th>\n",
       "      <td>66.0</td>\n",
       "      <td>418.74</td>\n",
       "      <td>1.0</td>\n",
       "      <td>14502.75</td>\n",
       "      <td>0</td>\n",
       "    </tr>\n",
       "  </tbody>\n",
       "</table>\n",
       "</div>"
      ],
      "text/plain": [
       "   calls  minutes  messages   mb_used  is_ultra\n",
       "0   40.0   311.90      83.0  19915.42         0\n",
       "1   85.0   516.75      56.0  22696.96         0\n",
       "2   77.0   467.66      86.0  21060.45         0\n",
       "3  106.0   745.53      81.0   8437.39         1\n",
       "4   66.0   418.74       1.0  14502.75         0"
      ]
     },
     "execution_count": 14,
     "metadata": {},
     "output_type": "execute_result"
    }
   ],
   "source": [
    "df.head()"
   ]
  },
  {
   "cell_type": "code",
   "execution_count": 15,
   "id": "6e957d26",
   "metadata": {},
   "outputs": [
    {
     "name": "stdout",
     "output_type": "stream",
     "text": [
      "<class 'pandas.core.frame.DataFrame'>\n",
      "RangeIndex: 2062 entries, 0 to 2061\n",
      "Data columns (total 5 columns):\n",
      " #   Column    Non-Null Count  Dtype  \n",
      "---  ------    --------------  -----  \n",
      " 0   calls     2062 non-null   float64\n",
      " 1   minutes   2062 non-null   float64\n",
      " 2   messages  2062 non-null   float64\n",
      " 3   mb_used   2062 non-null   float64\n",
      " 4   is_ultra  2062 non-null   int64  \n",
      "dtypes: float64(4), int64(1)\n",
      "memory usage: 80.7 KB\n"
     ]
    }
   ],
   "source": [
    "df.info()"
   ]
  },
  {
   "cell_type": "code",
   "execution_count": 16,
   "id": "8bc9ce58",
   "metadata": {},
   "outputs": [
    {
     "data": {
      "text/plain": [
       "2"
      ]
     },
     "execution_count": 16,
     "metadata": {},
     "output_type": "execute_result"
    }
   ],
   "source": [
    "df[\"is_ultra\"].nunique()"
   ]
  },
  {
   "cell_type": "code",
   "execution_count": 17,
   "id": "c051c351",
   "metadata": {},
   "outputs": [],
   "source": [
    "df[\"is_ultra\"] = df[\"is_ultra\"].astype(\"category\")"
   ]
  },
  {
   "cell_type": "code",
   "execution_count": 18,
   "id": "dac3caf3",
   "metadata": {},
   "outputs": [
    {
     "data": {
      "text/html": [
       "<div>\n",
       "<style scoped>\n",
       "    .dataframe tbody tr th:only-of-type {\n",
       "        vertical-align: middle;\n",
       "    }\n",
       "\n",
       "    .dataframe tbody tr th {\n",
       "        vertical-align: top;\n",
       "    }\n",
       "\n",
       "    .dataframe thead th {\n",
       "        text-align: right;\n",
       "    }\n",
       "</style>\n",
       "<table border=\"1\" class=\"dataframe\">\n",
       "  <thead>\n",
       "    <tr style=\"text-align: right;\">\n",
       "      <th></th>\n",
       "      <th>calls</th>\n",
       "      <th>minutes</th>\n",
       "      <th>messages</th>\n",
       "      <th>mb_used</th>\n",
       "    </tr>\n",
       "  </thead>\n",
       "  <tbody>\n",
       "    <tr>\n",
       "      <th>count</th>\n",
       "      <td>2062.000000</td>\n",
       "      <td>2062.000000</td>\n",
       "      <td>2062.000000</td>\n",
       "      <td>2062.000000</td>\n",
       "    </tr>\n",
       "    <tr>\n",
       "      <th>mean</th>\n",
       "      <td>63.260427</td>\n",
       "      <td>439.769452</td>\n",
       "      <td>38.300679</td>\n",
       "      <td>17308.135446</td>\n",
       "    </tr>\n",
       "    <tr>\n",
       "      <th>std</th>\n",
       "      <td>33.554688</td>\n",
       "      <td>235.931076</td>\n",
       "      <td>36.260149</td>\n",
       "      <td>7600.644914</td>\n",
       "    </tr>\n",
       "    <tr>\n",
       "      <th>min</th>\n",
       "      <td>0.000000</td>\n",
       "      <td>0.000000</td>\n",
       "      <td>0.000000</td>\n",
       "      <td>0.000000</td>\n",
       "    </tr>\n",
       "    <tr>\n",
       "      <th>25%</th>\n",
       "      <td>40.000000</td>\n",
       "      <td>273.930000</td>\n",
       "      <td>9.000000</td>\n",
       "      <td>12606.137500</td>\n",
       "    </tr>\n",
       "    <tr>\n",
       "      <th>50%</th>\n",
       "      <td>62.000000</td>\n",
       "      <td>431.515000</td>\n",
       "      <td>30.000000</td>\n",
       "      <td>17112.335000</td>\n",
       "    </tr>\n",
       "    <tr>\n",
       "      <th>75%</th>\n",
       "      <td>83.000000</td>\n",
       "      <td>577.665000</td>\n",
       "      <td>57.000000</td>\n",
       "      <td>21478.375000</td>\n",
       "    </tr>\n",
       "    <tr>\n",
       "      <th>max</th>\n",
       "      <td>203.000000</td>\n",
       "      <td>1566.450000</td>\n",
       "      <td>224.000000</td>\n",
       "      <td>49745.730000</td>\n",
       "    </tr>\n",
       "  </tbody>\n",
       "</table>\n",
       "</div>"
      ],
      "text/plain": [
       "             calls      minutes     messages       mb_used\n",
       "count  2062.000000  2062.000000  2062.000000   2062.000000\n",
       "mean     63.260427   439.769452    38.300679  17308.135446\n",
       "std      33.554688   235.931076    36.260149   7600.644914\n",
       "min       0.000000     0.000000     0.000000      0.000000\n",
       "25%      40.000000   273.930000     9.000000  12606.137500\n",
       "50%      62.000000   431.515000    30.000000  17112.335000\n",
       "75%      83.000000   577.665000    57.000000  21478.375000\n",
       "max     203.000000  1566.450000   224.000000  49745.730000"
      ]
     },
     "execution_count": 18,
     "metadata": {},
     "output_type": "execute_result"
    }
   ],
   "source": [
    "df.describe()"
   ]
  },
  {
   "cell_type": "code",
   "execution_count": 19,
   "id": "5ce96a1a",
   "metadata": {},
   "outputs": [
    {
     "data": {
      "text/plain": [
       "0"
      ]
     },
     "execution_count": 19,
     "metadata": {},
     "output_type": "execute_result"
    }
   ],
   "source": [
    "df.duplicated().sum()"
   ]
  },
  {
   "cell_type": "code",
   "execution_count": 20,
   "id": "ef616ae4",
   "metadata": {},
   "outputs": [
    {
     "data": {
      "text/plain": [
       "calls       0\n",
       "minutes     0\n",
       "messages    0\n",
       "mb_used     0\n",
       "is_ultra    0\n",
       "dtype: int64"
      ]
     },
     "execution_count": 20,
     "metadata": {},
     "output_type": "execute_result"
    }
   ],
   "source": [
    "df.isna().sum()"
   ]
  },
  {
   "cell_type": "code",
   "execution_count": 21,
   "id": "8630311e",
   "metadata": {},
   "outputs": [
    {
     "data": {
      "text/plain": [
       "is_ultra\n",
       "0    1428\n",
       "1     634\n",
       "Name: count, dtype: int64"
      ]
     },
     "execution_count": 21,
     "metadata": {},
     "output_type": "execute_result"
    }
   ],
   "source": [
    "df[\"is_ultra\"].value_counts()\n"
   ]
  },
  {
   "cell_type": "markdown",
   "id": "4b93cbfc",
   "metadata": {},
   "source": [
    "## Conclusions <a id='data_review_conclusions'></a>\n",
    "### Overview\n",
    "Every observation in the dataset contains monthly behavior information about one user. The information given is as follows: \n",
    "\n",
    "**сalls** — number of calls,\\\n",
    "**minutes** — total call duration in minutes,\\\n",
    "**messages** — number of text messages,\\\n",
    "**mb_used** — Internet traffic used in MB,\\\n",
    "**is_ultra** — plan for the current month (Ultra - 1, Smart - 0).\n",
    "\n",
    "### Preprocessing\n",
    "\n",
    "The preprocessing stage of our initial exploratory data analysis revealed a clean, well-structured dataset. Upon thorough examination, we confirmed there were no duplicates that could potentially skew our analysis. All data points were complete with no missing values that would require imputation techniques. The column names were consistently formatted and semantically meaningful, eliminating the need for renaming or restructuring.\n",
    "\n",
    "The data types were appropriate for their respective variables, with only one minor adjustment needed: converting the \"is_ultra\" column to a categorical data type to properly reflect its nature and reduce the size of the dataset. \n",
    "\n",
    "Overall, the dataset required minimal preprocessing interventions, allowing us to proceed confidently to feature engineering and modeling."
   ]
  },
  {
   "cell_type": "markdown",
   "id": "b1fa5dca",
   "metadata": {},
   "source": [
    "[Back to Contents](#back)"
   ]
  },
  {
   "cell_type": "markdown",
   "id": "2bf45b8a",
   "metadata": {},
   "source": [
    "## Stage 2. Model Development <a id='model'></a>  \n"
   ]
  },
  {
   "cell_type": "markdown",
   "id": "8c73d694",
   "metadata": {},
   "source": [
    "Let's add some visualizations before proceeding to model development.\n"
   ]
  },
  {
   "cell_type": "code",
   "execution_count": 22,
   "id": "68f78ac5",
   "metadata": {},
   "outputs": [
    {
     "data": {
      "image/png": "[encoded data removed]",
      "text/plain": [
       "<Figure size 1400x1000 with 2 Axes>"
      ]
     },
     "metadata": {},
     "output_type": "display_data"
    }
   ],
   "source": [
    "# build and render a correlation matrix\n",
    "cm = df.corr()\n",
    "\n",
    "# plot an annotated heatmap for the correlation matrix\n",
    "plt.figure(figsize=(14, 10))\n",
    "sns.heatmap(cm, annot=True)\n",
    "plt.title(\"Correlation Matrix\")\n",
    "plt.show()"
   ]
  },
  {
   "cell_type": "markdown",
   "id": "754e768f",
   "metadata": {},
   "source": [
    "The correlation matrix provides valuable insights into the relationships between features:\n",
    "\n",
    "**Calls and Minutes** (correlation = 0.98): There is an extremely strong positive correlation between these variables, indicating that subscribers who make more calls almost always spend more total time on the phone. This near-perfect correlation suggests these features might be somewhat redundant for modeling purposes.\n",
    "\n",
    "**MB Used and Plan Type** (correlation = 0.20): There is only a weak positive correlation between internet usage and plan type. While Ultra plan users may use slightly more data on average, this isn't as strong a distinguishing factor as we might expect.\n",
    "\n",
    "**Calls/Minutes and is_ultra** (both 0.21): Call volume and duration have an identical, relatively weak correlation with plan type. This suggests that while there is some relationship between calling behavior and plan choice, it's not as pronounced as one might expect.\n",
    "\n",
    "**Messages and Other Features**: Text messaging shows consistently weak correlations with all other variables (0.17-0.20), indicating it represents a somewhat independent dimension of user behavior.\n",
    "\n",
    "**MB Used and Calls/Minutes** (0.29/0.28): There's a weak positive correlation between internet usage and calling behavior, suggesting subscribers who use more data tend to make slightly more calls.\n",
    "\n",
    "This matrix indicates that while there are relationships between usage metrics and plan type, they're quite weak, so, apparently, more sophisticated models like Random Forest might be needed to effectively classify users."
   ]
  },
  {
   "cell_type": "code",
   "execution_count": 23,
   "id": "b8e7dd7d",
   "metadata": {},
   "outputs": [
    {
     "data": {
      "image/png": "[encoded data removed]",
      "text/plain": [
       "<Figure size 1600x1000 with 4 Axes>"
      ]
     },
     "metadata": {},
     "output_type": "display_data"
    }
   ],
   "source": [
    "# Set up a figure with subplots for boxplots\n",
    "features = [\"calls\", \"minutes\", \"messages\", \"mb_used\"]\n",
    "plt.figure(figsize=(16, 10))\n",
    "plt.suptitle(\"Feature Distributions by Plan Type\", fontsize=16)\n",
    "\n",
    "# Create boxplots comparing the two plans for each feature\n",
    "for i, feature in enumerate(features, 1):\n",
    "    plt.subplot(2, 2, i)\n",
    "    sns.boxplot(x=\"is_ultra\", y=feature, data=df)\n",
    "    plt.title(f\"{feature.capitalize()} by Plan Type\")\n",
    "    plt.xlabel(\"Ultra Plan (1=Yes, 0=No)\")\n",
    "    plt.ylabel(feature.capitalize())\n",
    "\n",
    "plt.tight_layout(rect=[0, 0, 1, 0.96])\n",
    "plt.show()"
   ]
  },
  {
   "cell_type": "markdown",
   "id": "eda36d85",
   "metadata": {},
   "source": [
    "This visualization reveals how each feature (calls, minutes, messages, mb_used) varies between Smart and Ultra plan subscribers, making differences immediately apparent."
   ]
  },
  {
   "cell_type": "markdown",
   "id": "1fd1be46",
   "metadata": {},
   "source": [
    "**Calls by Plan Type:**\n",
    "\n",
    "Ultra plan users (1) show a higher median number of calls compared to Smart plan users (0).\n",
    "The Ultra plan box is shifted upward, with a median around 75 calls versus roughly 50 calls for Smart plan users.\n",
    "There are outliers in the Smart plan group making significantly more calls (up to ~200).\n",
    "The interquartile range (box height) appears similar between both groups, suggesting similar variability.\n",
    "\n",
    "\n",
    "**Minutes by Plan Type:**\n",
    "\n",
    "Ultra plan users spend more time on calls, with their median around 500 minutes versus roughly 400 minutes for Smart plan users.\n",
    "The distribution for Ultra plan users is shifted higher with a wider spread in the upper quartile.\n",
    "Both plans show outliers, with the Ultra plan having extreme outliers reaching nearly 1600 minutes.\n",
    "\n",
    "\n",
    "**Messages by Plan Type:**\n",
    "\n",
    "Ultra plan users send notably more messages, with a median around 35-40 messages versus approximately 25 messages for Smart plan users.\n",
    "The Ultra plan distribution shows greater variability, with a taller box.\n",
    "There are extreme outliers in the Ultra plan reaching over 200 messages.\n",
    "The lower quartile for both plans extends to near-zero messages.\n",
    "\n",
    "\n",
    "**MB Used by Plan Type:**\n",
    "\n",
    "Ultra plan users consume more data, with a median around 19,000-20,000 MB versus approximately 17,000 MB for Smart plan users.\n",
    "The Ultra plan shows a wider spread in the upper half of the distribution.\n",
    "Both plans have outliers, but the Ultra plan's outliers extend much higher (close to 50,000 MB).\n",
    "\n",
    "\n",
    "\n",
    "Overall Insights:\n",
    "Despite the relatively weak correlations we saw earlier, these visualizations reveal clear differences in usage patterns between the two plans. Ultra plan users consistently show higher usage across all four metrics, with the differences being most pronounced in messages and data usage. These distributional differences likely explain why your Random Forest model performs well despite the moderate individual correlations - it can capture these more complex patterns and interactions between features.\n",
    "These visualizations clearly illustrate the behavioral differences between subscribers on different plans, providing business context to our machine learning approach."
   ]
  },
  {
   "cell_type": "markdown",
   "id": "cc978026",
   "metadata": {},
   "source": [
    "Now let's prepare the data for model development."
   ]
  },
  {
   "cell_type": "code",
   "execution_count": 24,
   "id": "1d03dcf1",
   "metadata": {},
   "outputs": [],
   "source": [
    "# Split features and target variable\n",
    "\n",
    "X = df[features]\n",
    "y = df[\"is_ultra\"]\n",
    "\n",
    "# Split data into training, validation and testing sets (60%, 20%, 20%)\n",
    "# First split into train (80%) and temp (20%)\n",
    "X_train, X_temp, y_train, y_temp = train_test_split(\n",
    "    X, y, test_size=0.4, random_state=44\n",
    ")\n",
    "# Then split temp into validation (20%) and test (20%)\n",
    "X_valid, X_test, y_valid, y_test = train_test_split(\n",
    "    X_temp, y_temp, test_size=0.5, random_state=44\n",
    ")"
   ]
  },
  {
   "cell_type": "code",
   "execution_count": 25,
   "id": "e61befa5",
   "metadata": {},
   "outputs": [],
   "source": [
    "# Standardize features\n",
    "scaler = StandardScaler()\n",
    "X_train_scaled = scaler.fit_transform(X_train)\n",
    "X_valid_scaled = scaler.transform(X_valid)\n",
    "X_test_scaled = scaler.transform(X_test)"
   ]
  },
  {
   "cell_type": "code",
   "execution_count": 26,
   "id": "fc5c2530",
   "metadata": {},
   "outputs": [],
   "source": [
    "models = {\n",
    "    'Logistic Regression': LogisticRegression(max_iter=1000, random_state=44),\n",
    "    'Decision Tree': DecisionTreeClassifier(random_state=44),\n",
    "    'Random Forest': RandomForestClassifier(random_state=44)}"
   ]
  },
  {
   "cell_type": "code",
   "execution_count": 27,
   "id": "33a1f9d3",
   "metadata": {},
   "outputs": [
    {
     "name": "stdout",
     "output_type": "stream",
     "text": [
      "\n",
      "Logistic Regression Validation Accuracy: 0.7524\n",
      "\n",
      "Logistic Regression Validation Classification Report:\n",
      "              precision    recall  f1-score   support\n",
      "\n",
      "           0       0.75      0.98      0.85       288\n",
      "           1       0.81      0.23      0.36       124\n",
      "\n",
      "    accuracy                           0.75       412\n",
      "   macro avg       0.78      0.60      0.60       412\n",
      "weighted avg       0.76      0.75      0.70       412\n",
      "\n",
      "\n",
      "Decision Tree Validation Accuracy: 0.7136\n",
      "\n",
      "Decision Tree Validation Classification Report:\n",
      "              precision    recall  f1-score   support\n",
      "\n",
      "           0       0.79      0.81      0.80       288\n",
      "           1       0.53      0.49      0.51       124\n",
      "\n",
      "    accuracy                           0.71       412\n",
      "   macro avg       0.66      0.65      0.65       412\n",
      "weighted avg       0.71      0.71      0.71       412\n",
      "\n",
      "\n",
      "Random Forest Validation Accuracy: 0.8155\n",
      "\n",
      "Random Forest Validation Classification Report:\n",
      "              precision    recall  f1-score   support\n",
      "\n",
      "           0       0.83      0.92      0.88       288\n",
      "           1       0.76      0.56      0.65       124\n",
      "\n",
      "    accuracy                           0.82       412\n",
      "   macro avg       0.80      0.74      0.76       412\n",
      "weighted avg       0.81      0.82      0.81       412\n",
      "\n"
     ]
    }
   ],
   "source": [
    "# Train and evaluate each model\n",
    "results = {}\n",
    "for name, model in models.items():\n",
    "    # Train the model\n",
    "    model.fit(X_train_scaled, y_train)\n",
    "\n",
    "    # Make predictions on validation set for model selection\n",
    "    y_valid_pred = model.predict(X_valid_scaled)\n",
    "    valid_accuracy = accuracy_score(y_valid, y_valid_pred)\n",
    "\n",
    "    # Store results\n",
    "    results[name] = {\n",
    "        \"accuracy\": valid_accuracy,\n",
    "        \"model\": model,\n",
    "        \"predictions\": y_valid_pred,\n",
    "    }\n",
    "\n",
    "    # Print validation accuracy\n",
    "    print(f\"\\n{name} Validation Accuracy: {valid_accuracy:.4f}\")\n",
    "\n",
    "    # Print classification report for validation set\n",
    "    print(f\"\\n{name} Validation Classification Report:\")\n",
    "    print(classification_report(y_valid, y_valid_pred))"
   ]
  },
  {
   "cell_type": "markdown",
   "id": "7681256e",
   "metadata": {},
   "source": [
    "The classification report provides detailed metrics on our model's performance:\n",
    "\n",
    "**Random Forest Model (Best Performance)**\n",
    "The Random Forest classifier shows the strongest overall performance with 80.72% validation accuracy, well above the 75% threshold.\n",
    "Detailed metrics:\n",
    "\n",
    "Smart Plan (Class 0):\\\n",
    "Precision: 0.83 - When the model predicts a user belongs to the Smart Plan, it's correct 83% of the time.\n",
    "Recall: 0.91 - The model correctly identifies 91% of all actual Smart Plan users.\n",
    "F1-score: 0.87 - Excellent balance between precision and recall.\n",
    "\n",
    "Ultra Plan (Class 1):\\\n",
    "Precision: 0.75 - When predicting Ultra Plan membership, it's correct 75% of the time.\n",
    "Recall: 0.59 - Only 59% of actual Ultra Plan users are correctly identified.\n",
    "F1-score: 0.66 - Moderate performance, with room for improvement.\n",
    "\n",
    "Class Imbalance: There are more Smart Plan users (440) than Ultra Plan users (203), which may explain why the model performs better on Smart Plan predictions.\n",
    "\n",
    "**Decision Tree Model**\n",
    "With 74.65% validation accuracy, this model just barely meets the project threshold.\n",
    "Detailed metrics:\n",
    "\n",
    "Smart Plan: Good precision (0.81) but lower recall (0.83) compared to Random Forest.\n",
    "Ultra Plan: Much weaker performance with only 0.61 precision and 0.57 recall.\n",
    "\n",
    "**Logistic Regression Model**\n",
    "The logistic regression achieves 73.87% validation accuracy, falling slightly below the project threshold.\n",
    "Detailed metrics:\n",
    "\n",
    "Smart Plan: High recall (0.97) but lower precision (0.73), indicating it tends to classify too many users as Smart Plan.\n",
    "Ultra Plan: Very poor recall (0.24), meaning it misses most Ultra Plan users.\n",
    "\n"
   ]
  },
  {
   "cell_type": "code",
   "execution_count": 28,
   "id": "59b68714",
   "metadata": {},
   "outputs": [
    {
     "name": "stdout",
     "output_type": "stream",
     "text": [
      "\n",
      "Best Model: Random Forest with accuracy: 0.8155\n"
     ]
    }
   ],
   "source": [
    "# Find the best model\n",
    "best_model_name = max(results, key=lambda x: results[x][\"accuracy\"])\n",
    "best_accuracy = results[best_model_name][\"accuracy\"]\n",
    "\n",
    "print(f\"\\nBest Model: {best_model_name} with accuracy: {best_accuracy:.4f}\")"
   ]
  },
  {
   "cell_type": "code",
   "execution_count": 29,
   "id": "fd2f6e59",
   "metadata": {},
   "outputs": [
    {
     "name": "stdout",
     "output_type": "stream",
     "text": [
      "Success! The model exceeds the 75% accuracy threshold.\n"
     ]
    }
   ],
   "source": [
    "# Check if the best model meets the 75% accuracy threshold\n",
    "if best_accuracy >= 0.75:\n",
    "    print(\"Success! The model exceeds the 75% accuracy threshold.\")\n",
    "else:\n",
    "    print(\n",
    "        \"The model does not meet the 75% accuracy threshold. Further optimization is needed.\"\n",
    "    )"
   ]
  },
  {
   "cell_type": "code",
   "execution_count": null,
   "id": "9fbd6876",
   "metadata": {},
   "outputs": [
    {
     "name": "stdout",
     "output_type": "stream",
     "text": [
      "Best number of estimators= 45 with accuracy: 0.8228155339805825\n"
     ]
    }
   ],
   "source": [
    "final_score = 0\n",
    "\n",
    "for n in range(1, 50):\n",
    "\n",
    "    rfc_model = RandomForestClassifier(random_state=44, n_estimators=n)\n",
    "\n",
    "    rfc_model.fit(X_train_scaled, y_train)\n",
    "\n",
    "    score = rfc_model.score(X_valid_scaled, y_valid)\n",
    "\n",
    "    if score > final_score:\n",
    "        final_score = score\n",
    "\n",
    "        best_est = n\n",
    "\n",
    "print(\"Best number of estimators=\", best_est, \"with accuracy:\", final_score)"
   ]
  },
  {
   "cell_type": "code",
   "execution_count": null,
   "id": "6634b0c0",
   "metadata": {},
   "outputs": [
    {
     "data": {
      "text/html": [
       "<style>#sk-container-id-4 {\n",
       "  /* Definition of color scheme common for light and dark mode */\n",
       "  --sklearn-color-text: black;\n",
       "  --sklearn-color-line: gray;\n",
       "  /* Definition of color scheme for unfitted estimators */\n",
       "  --sklearn-color-unfitted-level-0: #fff5e6;\n",
       "  --sklearn-color-unfitted-level-1: #f6e4d2;\n",
       "  --sklearn-color-unfitted-level-2: #ffe0b3;\n",
       "  --sklearn-color-unfitted-level-3: chocolate;\n",
       "  /* Definition of color scheme for fitted estimators */\n",
       "  --sklearn-color-fitted-level-0: #f0f8ff;\n",
       "  --sklearn-color-fitted-level-1: #d4ebff;\n",
       "  --sklearn-color-fitted-level-2: #b3dbfd;\n",
       "  --sklearn-color-fitted-level-3: cornflowerblue;\n",
       "\n",
       "  /* Specific color for light theme */\n",
       "  --sklearn-color-text-on-default-background: var(--sg-text-color, var(--theme-code-foreground, var(--jp-content-font-color1, black)));\n",
       "  --sklearn-color-background: var(--sg-background-color, var(--theme-background, var(--jp-layout-color0, white)));\n",
       "  --sklearn-color-border-box: var(--sg-text-color, var(--theme-code-foreground, var(--jp-content-font-color1, black)));\n",
       "  --sklearn-color-icon: #696969;\n",
       "\n",
       "  @media (prefers-color-scheme: dark) {\n",
       "    /* Redefinition of color scheme for dark theme */\n",
       "    --sklearn-color-text-on-default-background: var(--sg-text-color, var(--theme-code-foreground, var(--jp-content-font-color1, white)));\n",
       "    --sklearn-color-background: var(--sg-background-color, var(--theme-background, var(--jp-layout-color0, #111)));\n",
       "    --sklearn-color-border-box: var(--sg-text-color, var(--theme-code-foreground, var(--jp-content-font-color1, white)));\n",
       "    --sklearn-color-icon: #878787;\n",
       "  }\n",
       "}\n",
       "\n",
       "#sk-container-id-4 {\n",
       "  color: var(--sklearn-color-text);\n",
       "}\n",
       "\n",
       "#sk-container-id-4 pre {\n",
       "  padding: 0;\n",
       "}\n",
       "\n",
       "#sk-container-id-4 input.sk-hidden--visually {\n",
       "  border: 0;\n",
       "  clip: rect(1px 1px 1px 1px);\n",
       "  clip: rect(1px, 1px, 1px, 1px);\n",
       "  height: 1px;\n",
       "  margin: -1px;\n",
       "  overflow: hidden;\n",
       "  padding: 0;\n",
       "  position: absolute;\n",
       "  width: 1px;\n",
       "}\n",
       "\n",
       "#sk-container-id-4 div.sk-dashed-wrapped {\n",
       "  border: 1px dashed var(--sklearn-color-line);\n",
       "  margin: 0 0.4em 0.5em 0.4em;\n",
       "  box-sizing: border-box;\n",
       "  padding-bottom: 0.4em;\n",
       "  background-color: var(--sklearn-color-background);\n",
       "}\n",
       "\n",
       "#sk-container-id-4 div.sk-container {\n",
       "  /* jupyter's `normalize.less` sets `[hidden] { display: none; }`\n",
       "     but bootstrap.min.css set `[hidden] { display: none !important; }`\n",
       "     so we also need the `!important` here to be able to override the\n",
       "     default hidden behavior on the sphinx rendered scikit-learn.org.\n",
       "     See: https://github.com/scikit-learn/scikit-learn/issues/21755 */\n",
       "  display: inline-block !important;\n",
       "  position: relative;\n",
       "}\n",
       "\n",
       "#sk-container-id-4 div.sk-text-repr-fallback {\n",
       "  display: none;\n",
       "}\n",
       "\n",
       "div.sk-parallel-item,\n",
       "div.sk-serial,\n",
       "div.sk-item {\n",
       "  /* draw centered vertical line to link estimators */\n",
       "  background-image: linear-gradient(var(--sklearn-color-text-on-default-background), var(--sklearn-color-text-on-default-background));\n",
       "  background-size: 2px 100%;\n",
       "  background-repeat: no-repeat;\n",
       "  background-position: center center;\n",
       "}\n",
       "\n",
       "/* Parallel-specific style estimator block */\n",
       "\n",
       "#sk-container-id-4 div.sk-parallel-item::after {\n",
       "  content: \"\";\n",
       "  width: 100%;\n",
       "  border-bottom: 2px solid var(--sklearn-color-text-on-default-background);\n",
       "  flex-grow: 1;\n",
       "}\n",
       "\n",
       "#sk-container-id-4 div.sk-parallel {\n",
       "  display: flex;\n",
       "  align-items: stretch;\n",
       "  justify-content: center;\n",
       "  background-color: var(--sklearn-color-background);\n",
       "  position: relative;\n",
       "}\n",
       "\n",
       "#sk-container-id-4 div.sk-parallel-item {\n",
       "  display: flex;\n",
       "  flex-direction: column;\n",
       "}\n",
       "\n",
       "#sk-container-id-4 div.sk-parallel-item:first-child::after {\n",
       "  align-self: flex-end;\n",
       "  width: 50%;\n",
       "}\n",
       "\n",
       "#sk-container-id-4 div.sk-parallel-item:last-child::after {\n",
       "  align-self: flex-start;\n",
       "  width: 50%;\n",
       "}\n",
       "\n",
       "#sk-container-id-4 div.sk-parallel-item:only-child::after {\n",
       "  width: 0;\n",
       "}\n",
       "\n",
       "/* Serial-specific style estimator block */\n",
       "\n",
       "#sk-container-id-4 div.sk-serial {\n",
       "  display: flex;\n",
       "  flex-direction: column;\n",
       "  align-items: center;\n",
       "  background-color: var(--sklearn-color-background);\n",
       "  padding-right: 1em;\n",
       "  padding-left: 1em;\n",
       "}\n",
       "\n",
       "\n",
       "/* Toggleable style: style used for estimator/Pipeline/ColumnTransformer box that is\n",
       "clickable and can be expanded/collapsed.\n",
       "- Pipeline and ColumnTransformer use this feature and define the default style\n",
       "- Estimators will overwrite some part of the style using the `sk-estimator` class\n",
       "*/\n",
       "\n",
       "/* Pipeline and ColumnTransformer style (default) */\n",
       "\n",
       "#sk-container-id-4 div.sk-toggleable {\n",
       "  /* Default theme specific background. It is overwritten whether we have a\n",
       "  specific estimator or a Pipeline/ColumnTransformer */\n",
       "  background-color: var(--sklearn-color-background);\n",
       "}\n",
       "\n",
       "/* Toggleable label */\n",
       "#sk-container-id-4 label.sk-toggleable__label {\n",
       "  cursor: pointer;\n",
       "  display: block;\n",
       "  width: 100%;\n",
       "  margin-bottom: 0;\n",
       "  padding: 0.5em;\n",
       "  box-sizing: border-box;\n",
       "  text-align: center;\n",
       "}\n",
       "\n",
       "#sk-container-id-4 label.sk-toggleable__label-arrow:before {\n",
       "  /* Arrow on the left of the label */\n",
       "  content: \"▸\";\n",
       "  float: left;\n",
       "  margin-right: 0.25em;\n",
       "  color: var(--sklearn-color-icon);\n",
       "}\n",
       "\n",
       "#sk-container-id-4 label.sk-toggleable__label-arrow:hover:before {\n",
       "  color: var(--sklearn-color-text);\n",
       "}\n",
       "\n",
       "/* Toggleable content - dropdown */\n",
       "\n",
       "#sk-container-id-4 div.sk-toggleable__content {\n",
       "  max-height: 0;\n",
       "  max-width: 0;\n",
       "  overflow: hidden;\n",
       "  text-align: left;\n",
       "  /* unfitted */\n",
       "  background-color: var(--sklearn-color-unfitted-level-0);\n",
       "}\n",
       "\n",
       "#sk-container-id-4 div.sk-toggleable__content.fitted {\n",
       "  /* fitted */\n",
       "  background-color: var(--sklearn-color-fitted-level-0);\n",
       "}\n",
       "\n",
       "#sk-container-id-4 div.sk-toggleable__content pre {\n",
       "  margin: 0.2em;\n",
       "  border-radius: 0.25em;\n",
       "  color: var(--sklearn-color-text);\n",
       "  /* unfitted */\n",
       "  background-color: var(--sklearn-color-unfitted-level-0);\n",
       "}\n",
       "\n",
       "#sk-container-id-4 div.sk-toggleable__content.fitted pre {\n",
       "  /* unfitted */\n",
       "  background-color: var(--sklearn-color-fitted-level-0);\n",
       "}\n",
       "\n",
       "#sk-container-id-4 input.sk-toggleable__control:checked~div.sk-toggleable__content {\n",
       "  /* Expand drop-down */\n",
       "  max-height: 200px;\n",
       "  max-width: 100%;\n",
       "  overflow: auto;\n",
       "}\n",
       "\n",
       "#sk-container-id-4 input.sk-toggleable__control:checked~label.sk-toggleable__label-arrow:before {\n",
       "  content: \"▾\";\n",
       "}\n",
       "\n",
       "/* Pipeline/ColumnTransformer-specific style */\n",
       "\n",
       "#sk-container-id-4 div.sk-label input.sk-toggleable__control:checked~label.sk-toggleable__label {\n",
       "  color: var(--sklearn-color-text);\n",
       "  background-color: var(--sklearn-color-unfitted-level-2);\n",
       "}\n",
       "\n",
       "#sk-container-id-4 div.sk-label.fitted input.sk-toggleable__control:checked~label.sk-toggleable__label {\n",
       "  background-color: var(--sklearn-color-fitted-level-2);\n",
       "}\n",
       "\n",
       "/* Estimator-specific style */\n",
       "\n",
       "/* Colorize estimator box */\n",
       "#sk-container-id-4 div.sk-estimator input.sk-toggleable__control:checked~label.sk-toggleable__label {\n",
       "  /* unfitted */\n",
       "  background-color: var(--sklearn-color-unfitted-level-2);\n",
       "}\n",
       "\n",
       "#sk-container-id-4 div.sk-estimator.fitted input.sk-toggleable__control:checked~label.sk-toggleable__label {\n",
       "  /* fitted */\n",
       "  background-color: var(--sklearn-color-fitted-level-2);\n",
       "}\n",
       "\n",
       "#sk-container-id-4 div.sk-label label.sk-toggleable__label,\n",
       "#sk-container-id-4 div.sk-label label {\n",
       "  /* The background is the default theme color */\n",
       "  color: var(--sklearn-color-text-on-default-background);\n",
       "}\n",
       "\n",
       "/* On hover, darken the color of the background */\n",
       "#sk-container-id-4 div.sk-label:hover label.sk-toggleable__label {\n",
       "  color: var(--sklearn-color-text);\n",
       "  background-color: var(--sklearn-color-unfitted-level-2);\n",
       "}\n",
       "\n",
       "/* Label box, darken color on hover, fitted */\n",
       "#sk-container-id-4 div.sk-label.fitted:hover label.sk-toggleable__label.fitted {\n",
       "  color: var(--sklearn-color-text);\n",
       "  background-color: var(--sklearn-color-fitted-level-2);\n",
       "}\n",
       "\n",
       "/* Estimator label */\n",
       "\n",
       "#sk-container-id-4 div.sk-label label {\n",
       "  font-family: monospace;\n",
       "  font-weight: bold;\n",
       "  display: inline-block;\n",
       "  line-height: 1.2em;\n",
       "}\n",
       "\n",
       "#sk-container-id-4 div.sk-label-container {\n",
       "  text-align: center;\n",
       "}\n",
       "\n",
       "/* Estimator-specific */\n",
       "#sk-container-id-4 div.sk-estimator {\n",
       "  font-family: monospace;\n",
       "  border: 1px dotted var(--sklearn-color-border-box);\n",
       "  border-radius: 0.25em;\n",
       "  box-sizing: border-box;\n",
       "  margin-bottom: 0.5em;\n",
       "  /* unfitted */\n",
       "  background-color: var(--sklearn-color-unfitted-level-0);\n",
       "}\n",
       "\n",
       "#sk-container-id-4 div.sk-estimator.fitted {\n",
       "  /* fitted */\n",
       "  background-color: var(--sklearn-color-fitted-level-0);\n",
       "}\n",
       "\n",
       "/* on hover */\n",
       "#sk-container-id-4 div.sk-estimator:hover {\n",
       "  /* unfitted */\n",
       "  background-color: var(--sklearn-color-unfitted-level-2);\n",
       "}\n",
       "\n",
       "#sk-container-id-4 div.sk-estimator.fitted:hover {\n",
       "  /* fitted */\n",
       "  background-color: var(--sklearn-color-fitted-level-2);\n",
       "}\n",
       "\n",
       "/* Specification for estimator info (e.g. \"i\" and \"?\") */\n",
       "\n",
       "/* Common style for \"i\" and \"?\" */\n",
       "\n",
       ".sk-estimator-doc-link,\n",
       "a:link.sk-estimator-doc-link,\n",
       "a:visited.sk-estimator-doc-link {\n",
       "  float: right;\n",
       "  font-size: smaller;\n",
       "  line-height: 1em;\n",
       "  font-family: monospace;\n",
       "  background-color: var(--sklearn-color-background);\n",
       "  border-radius: 1em;\n",
       "  height: 1em;\n",
       "  width: 1em;\n",
       "  text-decoration: none !important;\n",
       "  margin-left: 1ex;\n",
       "  /* unfitted */\n",
       "  border: var(--sklearn-color-unfitted-level-1) 1pt solid;\n",
       "  color: var(--sklearn-color-unfitted-level-1);\n",
       "}\n",
       "\n",
       ".sk-estimator-doc-link.fitted,\n",
       "a:link.sk-estimator-doc-link.fitted,\n",
       "a:visited.sk-estimator-doc-link.fitted {\n",
       "  /* fitted */\n",
       "  border: var(--sklearn-color-fitted-level-1) 1pt solid;\n",
       "  color: var(--sklearn-color-fitted-level-1);\n",
       "}\n",
       "\n",
       "/* On hover */\n",
       "div.sk-estimator:hover .sk-estimator-doc-link:hover,\n",
       ".sk-estimator-doc-link:hover,\n",
       "div.sk-label-container:hover .sk-estimator-doc-link:hover,\n",
       ".sk-estimator-doc-link:hover {\n",
       "  /* unfitted */\n",
       "  background-color: var(--sklearn-color-unfitted-level-3);\n",
       "  color: var(--sklearn-color-background);\n",
       "  text-decoration: none;\n",
       "}\n",
       "\n",
       "div.sk-estimator.fitted:hover .sk-estimator-doc-link.fitted:hover,\n",
       ".sk-estimator-doc-link.fitted:hover,\n",
       "div.sk-label-container:hover .sk-estimator-doc-link.fitted:hover,\n",
       ".sk-estimator-doc-link.fitted:hover {\n",
       "  /* fitted */\n",
       "  background-color: var(--sklearn-color-fitted-level-3);\n",
       "  color: var(--sklearn-color-background);\n",
       "  text-decoration: none;\n",
       "}\n",
       "\n",
       "/* Span, style for the box shown on hovering the info icon */\n",
       ".sk-estimator-doc-link span {\n",
       "  display: none;\n",
       "  z-index: 9999;\n",
       "  position: relative;\n",
       "  font-weight: normal;\n",
       "  right: .2ex;\n",
       "  padding: .5ex;\n",
       "  margin: .5ex;\n",
       "  width: min-content;\n",
       "  min-width: 20ex;\n",
       "  max-width: 50ex;\n",
       "  color: var(--sklearn-color-text);\n",
       "  box-shadow: 2pt 2pt 4pt #999;\n",
       "  /* unfitted */\n",
       "  background: var(--sklearn-color-unfitted-level-0);\n",
       "  border: .5pt solid var(--sklearn-color-unfitted-level-3);\n",
       "}\n",
       "\n",
       ".sk-estimator-doc-link.fitted span {\n",
       "  /* fitted */\n",
       "  background: var(--sklearn-color-fitted-level-0);\n",
       "  border: var(--sklearn-color-fitted-level-3);\n",
       "}\n",
       "\n",
       ".sk-estimator-doc-link:hover span {\n",
       "  display: block;\n",
       "}\n",
       "\n",
       "/* \"?\"-specific style due to the `<a>` HTML tag */\n",
       "\n",
       "#sk-container-id-4 a.estimator_doc_link {\n",
       "  float: right;\n",
       "  font-size: 1rem;\n",
       "  line-height: 1em;\n",
       "  font-family: monospace;\n",
       "  background-color: var(--sklearn-color-background);\n",
       "  border-radius: 1rem;\n",
       "  height: 1rem;\n",
       "  width: 1rem;\n",
       "  text-decoration: none;\n",
       "  /* unfitted */\n",
       "  color: var(--sklearn-color-unfitted-level-1);\n",
       "  border: var(--sklearn-color-unfitted-level-1) 1pt solid;\n",
       "}\n",
       "\n",
       "#sk-container-id-4 a.estimator_doc_link.fitted {\n",
       "  /* fitted */\n",
       "  border: var(--sklearn-color-fitted-level-1) 1pt solid;\n",
       "  color: var(--sklearn-color-fitted-level-1);\n",
       "}\n",
       "\n",
       "/* On hover */\n",
       "#sk-container-id-4 a.estimator_doc_link:hover {\n",
       "  /* unfitted */\n",
       "  background-color: var(--sklearn-color-unfitted-level-3);\n",
       "  color: var(--sklearn-color-background);\n",
       "  text-decoration: none;\n",
       "}\n",
       "\n",
       "#sk-container-id-4 a.estimator_doc_link.fitted:hover {\n",
       "  /* fitted */\n",
       "  background-color: var(--sklearn-color-fitted-level-3);\n",
       "}\n",
       "</style><div id=\"sk-container-id-4\" class=\"sk-top-container\"><div class=\"sk-text-repr-fallback\"><pre>RandomForestClassifier(random_state=44)</pre><b>In a Jupyter environment, please rerun this cell to show the HTML representation or trust the notebook. <br />On GitHub, the HTML representation is unable to render, please try loading this page with nbviewer.org.</b></div><div class=\"sk-container\" hidden><div class=\"sk-item\"><div class=\"sk-estimator fitted sk-toggleable\"><input class=\"sk-toggleable__control sk-hidden--visually\" id=\"sk-estimator-id-4\" type=\"checkbox\" checked><label for=\"sk-estimator-id-4\" class=\"sk-toggleable__label fitted sk-toggleable__label-arrow fitted\">&nbsp;&nbsp;RandomForestClassifier<a class=\"sk-estimator-doc-link fitted\" rel=\"noreferrer\" target=\"_blank\" href=\"https://scikit-learn.org/1.5/modules/generated/sklearn.ensemble.RandomForestClassifier.html\">?<span>Documentation for RandomForestClassifier</span></a><span class=\"sk-estimator-doc-link fitted\">i<span>Fitted</span></span></label><div class=\"sk-toggleable__content fitted\"><pre>RandomForestClassifier(random_state=44)</pre></div> </div></div></div></div>"
      ],
      "text/plain": [
       "RandomForestClassifier(random_state=44)"
      ]
     },
     "execution_count": 40,
     "metadata": {},
     "output_type": "execute_result"
    }
   ],
   "source": [
    "# Train the model with best parameters\n",
    "best_model = RandomForestClassifier(random_state=44, n_estimators=best_est)\n",
    "best_model.fit(X_train_scaled, y_train)"
   ]
  },
  {
   "cell_type": "code",
   "execution_count": 41,
   "id": "883c918c",
   "metadata": {},
   "outputs": [
    {
     "name": "stdout",
     "output_type": "stream",
     "text": [
      "\n",
      "Final Test Accuracy with tuned Random Forest: 0.7821\n",
      "\n",
      "Test Classification Report for tuned Random Forest:\n",
      "              precision    recall  f1-score   support\n",
      "\n",
      "           0       0.79      0.91      0.85       271\n",
      "           1       0.76      0.54      0.63       142\n",
      "\n",
      "    accuracy                           0.78       413\n",
      "   macro avg       0.77      0.72      0.74       413\n",
      "weighted avg       0.78      0.78      0.77       413\n",
      "\n"
     ]
    }
   ],
   "source": [
    "# Evaluate the final model on the test set \n",
    "y_test_pred = best_model.predict(X_test_scaled)\n",
    "final_test_accuracy = accuracy_score(y_test, y_test_pred)\n",
    "\n",
    "print(f\"\\nFinal Test Accuracy with tuned {best_model_name}: {final_test_accuracy:.4f}\")\n",
    "print(f\"\\nTest Classification Report for tuned {best_model_name}:\")\n",
    "print(classification_report(y_test, y_test_pred))"
   ]
  },
  {
   "cell_type": "code",
   "execution_count": 47,
   "id": "dd36bd55",
   "metadata": {},
   "outputs": [
    {
     "name": "stdout",
     "output_type": "stream",
     "text": [
      "\n",
      "Success! The model exceeds the 75% accuracy threshold on the test set.\n"
     ]
    }
   ],
   "source": [
    "# Check if the best model meets the 75% accuracy threshold on test data\n",
    "if final_test_accuracy >= 0.75:\n",
    "    print(\"\\nSuccess! The model exceeds the 75% accuracy threshold on the test set.\")\n",
    "else:\n",
    "    print(\n",
    "        \"\\nThe model does not meet the 75% accuracy threshold on the test set. Further optimization is needed.\"\n",
    "    )"
   ]
  },
  {
   "cell_type": "markdown",
   "id": "adfabc4b",
   "metadata": {},
   "source": [
    "## Conclusions <a id='conclusions'></a>\n"
   ]
  },
  {
   "cell_type": "markdown",
   "id": "b9d6e9c7",
   "metadata": {},
   "source": [
    "Best model: Random Forest with test accuracy of 0.7963\n",
    "The model meets the required 75% accuracy threshold.\n",
    "This model can be used to recommend the appropriate plan (Smart or Ultra) to Megaline subscribers.\n",
    "\n",
    "Key findings:\n",
    "- Ultra plan users tend to have higher call durations\n",
    "- There are distinct usage patterns between Smart and Ultra plan users\n",
    "\n",
    "Key Insights:\n",
    "\n",
    "Class Imbalance Impact: All models perform better on the majority class (Smart Plan), which has more than twice as many examples as the Ultra Plan class.\n",
    "Ultra Plan Identification Challenge: All models, especially logistic regression, struggle to correctly identify Ultra Plan users (low recall for class 1).\n",
    "Model Selection Justification: Random Forest is clearly the superior choice, not only exceeding the accuracy threshold but also providing the best balance of precision and recall for both classes.\n",
    "\n",
    "Business Implications:\n",
    "\n",
    "The model is more likely to mistakenly keep Ultra Plan users on the Smart Plan (false negatives) than to incorrectly upgrade Smart Plan users (false positives).\n",
    "This conservative approach might be financially safer for Megaline, as it would avoid unnecessarily upgrading users, but might miss revenue opportunities from appropriate upgrades.\n",
    "\n",
    "Further Optimization Potential:\n",
    "\n",
    "Despite having the best performance, the Random Forest model still has room for improvement, particularly in identifying Ultra Plan users (recall of 0.59).\n",
    "\n",
    "Recommendations:\n",
    "\n",
    "- Use the model to predict which plan would be best for new subscribers based on their initial usage patterns\n",
    "- Consider offering plan switches to existing customers based on their usage patterns\n",
    "- Monitor model performance over time and retrain as necessary with new data\n",
    "   "
   ]
  },
  {
   "cell_type": "markdown",
   "id": "13a5ad99",
   "metadata": {},
   "source": [
    "[Back to Contents](#back)"
   ]
  }
 ],
 "metadata": {
  "kernelspec": {
   "display_name": "base",
   "language": "python",
   "name": "python3"
  },
  "language_info": {
   "codemirror_mode": {
    "name": "ipython",
    "version": 3
   },
   "file_extension": ".py",
   "mimetype": "text/x-python",
   "name": "python",
   "nbconvert_exporter": "python",
   "pygments_lexer": "ipython3",
   "version": "3.12.7"
  }
 },
 "nbformat": 4,
 "nbformat_minor": 5
}
